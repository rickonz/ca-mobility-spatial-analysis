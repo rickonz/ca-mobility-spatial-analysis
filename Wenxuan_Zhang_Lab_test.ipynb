{
 "cells": [
  {
   "cell_type": "markdown",
   "metadata": {},
   "source": [
    "# 1. Load Data"
   ]
  },
  {
   "cell_type": "code",
   "execution_count": 1,
   "metadata": {},
   "outputs": [
    {
     "name": "stderr",
     "output_type": "stream",
     "text": [
      "/Users/xuanedx1/opt/anaconda3/lib/python3.7/site-packages/geopandas/_compat.py:115: UserWarning: The Shapely GEOS version (3.9.1-CAPI-1.14.2) is incompatible with the GEOS version PyGEOS was compiled with (3.10.1-CAPI-1.16.0). Conversions between both will be slow.\n",
      "  shapely_geos_version, geos_capi_version_string\n"
     ]
    }
   ],
   "source": [
    "import pandas as pd\n",
    "import geopandas as gpd\n",
    "import datetime\n",
    "from ast import literal_eval\n"
   ]
  },
  {
   "cell_type": "code",
   "execution_count": 2,
   "metadata": {},
   "outputs": [],
   "source": [
    "mobility = pd.read_csv(\"sg_ca_data.csv\", parse_dates=['date_range_start'], dtype={0: str, 8: str, 9:str})"
   ]
  },
  {
   "cell_type": "code",
   "execution_count": 3,
   "metadata": {},
   "outputs": [],
   "source": [
    "mobility['bucketed_distance_travelled'] = mobility['bucketed_distance_travelled'].apply(literal_eval)"
   ]
  },
  {
   "cell_type": "code",
   "execution_count": 4,
   "metadata": {},
   "outputs": [
    {
     "data": {
      "text/html": [
       "<div>\n",
       "<style scoped>\n",
       "    .dataframe tbody tr th:only-of-type {\n",
       "        vertical-align: middle;\n",
       "    }\n",
       "\n",
       "    .dataframe tbody tr th {\n",
       "        vertical-align: top;\n",
       "    }\n",
       "\n",
       "    .dataframe thead th {\n",
       "        text-align: right;\n",
       "    }\n",
       "</style>\n",
       "<table border=\"1\" class=\"dataframe\">\n",
       "  <thead>\n",
       "    <tr style=\"text-align: right;\">\n",
       "      <th></th>\n",
       "      <th>origin_census_block_group</th>\n",
       "      <th>date_range_start</th>\n",
       "      <th>device_count</th>\n",
       "      <th>distance_traveled_from_home</th>\n",
       "      <th>bucketed_distance_travelled</th>\n",
       "      <th>completely_home_device_count</th>\n",
       "      <th>median_percentage_time_home</th>\n",
       "      <th>mean_distance_traveled_from_home</th>\n",
       "      <th>county_fips</th>\n",
       "      <th>cbg_fips</th>\n",
       "    </tr>\n",
       "  </thead>\n",
       "  <tbody>\n",
       "    <tr>\n",
       "      <th>0</th>\n",
       "      <td>060014075002</td>\n",
       "      <td>2019-12-21 08:00:00+00:00</td>\n",
       "      <td>71</td>\n",
       "      <td>1598.0</td>\n",
       "      <td>{'16001-50000': 4, '0': 27, '&gt;50000': 5, '2001...</td>\n",
       "      <td>28</td>\n",
       "      <td>95</td>\n",
       "      <td>22833.0</td>\n",
       "      <td>06001</td>\n",
       "      <td>060014075002</td>\n",
       "    </tr>\n",
       "    <tr>\n",
       "      <th>1</th>\n",
       "      <td>060190057022</td>\n",
       "      <td>2019-12-21 08:00:00+00:00</td>\n",
       "      <td>80</td>\n",
       "      <td>3227.0</td>\n",
       "      <td>{'16001-50000': 5, '0': 26, '&gt;50000': 1, '2001...</td>\n",
       "      <td>26</td>\n",
       "      <td>88</td>\n",
       "      <td>4215.0</td>\n",
       "      <td>06019</td>\n",
       "      <td>060190057022</td>\n",
       "    </tr>\n",
       "    <tr>\n",
       "      <th>2</th>\n",
       "      <td>060210101002</td>\n",
       "      <td>2019-12-21 08:00:00+00:00</td>\n",
       "      <td>101</td>\n",
       "      <td>2405.0</td>\n",
       "      <td>{'16001-50000': 29, '0': 27, '&gt;50000': 15, '20...</td>\n",
       "      <td>30</td>\n",
       "      <td>88</td>\n",
       "      <td>19155.0</td>\n",
       "      <td>06021</td>\n",
       "      <td>060210101002</td>\n",
       "    </tr>\n",
       "    <tr>\n",
       "      <th>3</th>\n",
       "      <td>060290060071</td>\n",
       "      <td>2019-12-21 08:00:00+00:00</td>\n",
       "      <td>81</td>\n",
       "      <td>4593.0</td>\n",
       "      <td>{'16001-50000': 3, '0': 23, '&gt;50000': 22, '200...</td>\n",
       "      <td>21</td>\n",
       "      <td>81</td>\n",
       "      <td>21754.0</td>\n",
       "      <td>06029</td>\n",
       "      <td>060290060071</td>\n",
       "    </tr>\n",
       "    <tr>\n",
       "      <th>4</th>\n",
       "      <td>060310016011</td>\n",
       "      <td>2019-12-21 08:00:00+00:00</td>\n",
       "      <td>82</td>\n",
       "      <td>4056.0</td>\n",
       "      <td>{'16001-50000': 17, '0': 23, '&gt;50000': 14, '20...</td>\n",
       "      <td>23</td>\n",
       "      <td>79</td>\n",
       "      <td>12784.0</td>\n",
       "      <td>06031</td>\n",
       "      <td>060310016011</td>\n",
       "    </tr>\n",
       "  </tbody>\n",
       "</table>\n",
       "</div>"
      ],
      "text/plain": [
       "  origin_census_block_group          date_range_start  device_count  \\\n",
       "0              060014075002 2019-12-21 08:00:00+00:00            71   \n",
       "1              060190057022 2019-12-21 08:00:00+00:00            80   \n",
       "2              060210101002 2019-12-21 08:00:00+00:00           101   \n",
       "3              060290060071 2019-12-21 08:00:00+00:00            81   \n",
       "4              060310016011 2019-12-21 08:00:00+00:00            82   \n",
       "\n",
       "   distance_traveled_from_home  \\\n",
       "0                       1598.0   \n",
       "1                       3227.0   \n",
       "2                       2405.0   \n",
       "3                       4593.0   \n",
       "4                       4056.0   \n",
       "\n",
       "                         bucketed_distance_travelled  \\\n",
       "0  {'16001-50000': 4, '0': 27, '>50000': 5, '2001...   \n",
       "1  {'16001-50000': 5, '0': 26, '>50000': 1, '2001...   \n",
       "2  {'16001-50000': 29, '0': 27, '>50000': 15, '20...   \n",
       "3  {'16001-50000': 3, '0': 23, '>50000': 22, '200...   \n",
       "4  {'16001-50000': 17, '0': 23, '>50000': 14, '20...   \n",
       "\n",
       "   completely_home_device_count  median_percentage_time_home  \\\n",
       "0                            28                           95   \n",
       "1                            26                           88   \n",
       "2                            30                           88   \n",
       "3                            21                           81   \n",
       "4                            23                           79   \n",
       "\n",
       "   mean_distance_traveled_from_home county_fips      cbg_fips  \n",
       "0                           22833.0       06001  060014075002  \n",
       "1                            4215.0       06019  060190057022  \n",
       "2                           19155.0       06021  060210101002  \n",
       "3                           21754.0       06029  060290060071  \n",
       "4                           12784.0       06031  060310016011  "
      ]
     },
     "execution_count": 4,
     "metadata": {},
     "output_type": "execute_result"
    }
   ],
   "source": [
    "mobility.head()"
   ]
  },
  {
   "cell_type": "code",
   "execution_count": 5,
   "metadata": {},
   "outputs": [
    {
     "name": "stdout",
     "output_type": "stream",
     "text": [
      "<class 'pandas.core.frame.DataFrame'>\n",
      "RangeIndex: 7294981 entries, 0 to 7294980\n",
      "Data columns (total 10 columns):\n",
      " #   Column                            Dtype              \n",
      "---  ------                            -----              \n",
      " 0   origin_census_block_group         object             \n",
      " 1   date_range_start                  datetime64[ns, UTC]\n",
      " 2   device_count                      int64              \n",
      " 3   distance_traveled_from_home       float64            \n",
      " 4   bucketed_distance_travelled       object             \n",
      " 5   completely_home_device_count      int64              \n",
      " 6   median_percentage_time_home       int64              \n",
      " 7   mean_distance_traveled_from_home  float64            \n",
      " 8   county_fips                       object             \n",
      " 9   cbg_fips                          object             \n",
      "dtypes: datetime64[ns, UTC](1), float64(2), int64(3), object(4)\n",
      "memory usage: 556.6+ MB\n"
     ]
    }
   ],
   "source": [
    "mobility.info()"
   ]
  },
  {
   "cell_type": "markdown",
   "metadata": {},
   "source": [
    "# 2. Data Preprocessing"
   ]
  },
  {
   "cell_type": "code",
   "execution_count": null,
   "metadata": {},
   "outputs": [],
   "source": [
    "# weighted average for bucketed_distance_travelled (by lower bound in distance bin)\n",
    "distance = [33000, 0, 50000, 5000, 500, 1500, 12000]\n",
    "mobility['weighted_avg_bucketed_distance_travelled'] = mobility[\"bucketed_distance_travelled\"].apply(lambda x: sum([a*b for a,b in zip(list(x.values()), distance)])/sum(x.values()))"
   ]
  },
  {
   "cell_type": "code",
   "execution_count": null,
   "metadata": {},
   "outputs": [],
   "source": [
    "mobility.head()\n"
   ]
  },
  {
   "cell_type": "code",
   "execution_count": null,
   "metadata": {},
   "outputs": [],
   "source": [
    "# aggregate data by week and county level\n",
    "mobility['date_range_start'] = mobility[\"date_range_start\"].apply(lambda x: datetime.datetime(year=x.year, month=x.month, day=x.day))"
   ]
  },
  {
   "cell_type": "code",
   "execution_count": null,
   "metadata": {},
   "outputs": [],
   "source": [
    "# aggregate data by week and county level\n",
    "grouped_mobility = mobility.groupby('county_fips').resample('W', on='date_range_start').sum()"
   ]
  },
  {
   "cell_type": "code",
   "execution_count": null,
   "metadata": {},
   "outputs": [],
   "source": [
    "grouped_mobility"
   ]
  },
  {
   "cell_type": "code",
   "execution_count": null,
   "metadata": {},
   "outputs": [],
   "source": [
    "# reset index\n",
    "grouped_mobility = grouped_mobility.reset_index()\n",
    "grouped_mobility['county_fips'] = grouped_mobility['county_fips'].str[2:]"
   ]
  },
  {
   "cell_type": "code",
   "execution_count": null,
   "metadata": {},
   "outputs": [],
   "source": [
    "# merge mobility data with geo data\n",
    "geodata = gpd.read_file(\"CA_Counties/CA_Counties_TIGER2016.shp\")\n"
   ]
  },
  {
   "cell_type": "code",
   "execution_count": null,
   "metadata": {},
   "outputs": [],
   "source": [
    "geodata.head()\n"
   ]
  },
  {
   "cell_type": "code",
   "execution_count": null,
   "metadata": {},
   "outputs": [],
   "source": [
    "data = grouped_mobility[['county_fips','date_range_start','weighted_avg_bucketed_distance_travelled']].merge(geodata[['COUNTYFP', 'geometry']], how='left', left_on = 'county_fips', right_on='COUNTYFP').sort_values('date_range_start')"
   ]
  },
  {
   "cell_type": "code",
   "execution_count": null,
   "metadata": {},
   "outputs": [],
   "source": [
    "data = data.drop('COUNTYFP', axis=1)"
   ]
  },
  {
   "cell_type": "code",
   "execution_count": null,
   "metadata": {},
   "outputs": [],
   "source": [
    "data"
   ]
  },
  {
   "cell_type": "markdown",
   "metadata": {},
   "source": [
    "# 3. Exploring spatial structure"
   ]
  },
  {
   "cell_type": "code",
   "execution_count": null,
   "metadata": {},
   "outputs": [],
   "source": [
    "# analysis\n",
    "import libpysal\n",
    "from esda.moran import Moran\n",
    "from esda.moran import Moran_Local\n",
    "from numpy.random import seed\n",
    "from libpysal.weights.contiguity import Queen\n"
   ]
  },
  {
   "cell_type": "markdown",
   "metadata": {},
   "source": [
    "## Global and Local Moran I "
   ]
  },
  {
   "cell_type": "code",
   "execution_count": null,
   "metadata": {},
   "outputs": [],
   "source": [
    "data.info()"
   ]
  },
  {
   "cell_type": "code",
   "execution_count": null,
   "metadata": {},
   "outputs": [],
   "source": [
    "idx_df = data.groupby('date_range_start')[['county_fips']].count().cumsum().reset_index()"
   ]
  },
  {
   "cell_type": "code",
   "execution_count": null,
   "metadata": {},
   "outputs": [],
   "source": [
    "# get global moran I and p-values\n",
    "import warnings\n",
    "warnings.filterwarnings(\"ignore\", message=\"Numerical issues were encountered \")\n",
    "\n",
    "index = idx_df.county_fips.values\n",
    "pre_idx = -1\n",
    "moran_G_raw = [0]*len(index)\n",
    "moran_L_raw = [0]*len(index)\n",
    "\n",
    "moran_ = [0]*len(index)\n",
    "moran_G = [0]*len(index)\n",
    "p_value_G = [0]*len(index)\n",
    "moran_L = [0]*len(index)\n",
    "p_value_L = [0]*len(index)\n",
    "\n",
    "for i, idx in enumerate(index):\n",
    "    # Generate W from the GeoDataFrame\n",
    "    week_df = data.iloc[pre_idx+1:idx,:]\n",
    "    w = Queen.from_dataframe(week_df, idVariable='county_fips')\n",
    "    # Row-standardization\n",
    "    w.transform = 'r'\n",
    "    \n",
    "    # target variable values\n",
    "    y = week_df['weighted_avg_bucketed_distance_travelled']\n",
    "    \n",
    "    # calculate moran I\n",
    "    moran = Moran(y, w)\n",
    "    \n",
    "    moran_[i] = moran\n",
    "    moran_G[i] = moran.I\n",
    "    p_value_G[i] = moran.p_sim\n",
    "    \n",
    "    moran_L_raw[i] = Moran_Local(y, w)\n",
    "    moran_L[i] = Moran_Local(y, w).q\n",
    "    p_value_L[i] = Moran_Local(y, w).p_sim\n",
    "    \n",
    "    # reset left index\n",
    "    pre_idx = idx"
   ]
  },
  {
   "cell_type": "markdown",
   "metadata": {},
   "source": [
    "# 4. Visualizing and mapping spatial autocorrelation"
   ]
  },
  {
   "cell_type": "code",
   "execution_count": null,
   "metadata": {},
   "outputs": [],
   "source": [
    "%matplotlib inline\n",
    "import matplotlib.pyplot as plt\n",
    "plt.style.use('seaborn-whitegrid')\n",
    "import seaborn as sns\n",
    "import numpy as np"
   ]
  },
  {
   "cell_type": "code",
   "execution_count": null,
   "metadata": {},
   "outputs": [],
   "source": [
    "# concat data with week\n",
    "idx_df['global_moran_I'] = moran_G\n",
    "idx_df['global_moran_I_p'] = p_value_G\n",
    "idx_df['local_moran_I'] = moran_L\n",
    "idx_df['local_moran_I_p'] = p_value_L"
   ]
  },
  {
   "cell_type": "code",
   "execution_count": null,
   "metadata": {},
   "outputs": [],
   "source": [
    "idx_df.head()\n"
   ]
  },
  {
   "cell_type": "code",
   "execution_count": null,
   "metadata": {},
   "outputs": [],
   "source": [
    "idx_df['significance'] = np.where(idx_df['global_moran_I_p'] < 0.05, 'yes', 'no')\n",
    "idx_df.head()\n"
   ]
  },
  {
   "cell_type": "markdown",
   "metadata": {},
   "source": [
    "## Weekly Global Moran's I"
   ]
  },
  {
   "cell_type": "code",
   "execution_count": null,
   "metadata": {},
   "outputs": [],
   "source": [
    "# global moran I v.s. time \n",
    "plt.figure(figsize=(10, 8)) # fig size\n",
    "sns.lineplot(data=idx_df, x='date_range_start', y='global_moran_I', color='black') # lineplot\n",
    "sns.scatterplot(data=idx_df, x='date_range_start', y='global_moran_I', hue = 'significance', s=80, palette=dict(no='white',yes='black'), edgecolor=\"black\") # add marker\n",
    "plt.axvline(pd.Timestamp('2020-03-11'), color='r', ls='--') # add vertical line\n",
    "plt.title(\"Weekly Global Moran's I\", fontsize = 14)\n",
    "plt.xlabel(\"Time\", fontsize = 12)\n",
    "plt.ylabel(\"Global Moran I\", fontsize = 12)"
   ]
  },
  {
   "cell_type": "markdown",
   "metadata": {},
   "source": [
    "**Observations:**\n",
    "1. There is a decreasing trend in global Moran's I from 03/2020 to 10/2020\n",
    "2. The 2 greatest and lowest global Moran's I are found to be significant, the rest of the value are insignificant.\n",
    "3. Overall, the range of Moran's I is small, fluctuating between -0.1 and 0.1\n",
    "4. The red dash vertical line marked the begining of the pandemic\n",
    "\n",
    "**Interpretations:**\n",
    "1. Overall, the spatial autocorrelations of the average traveled distances of mobile devices is not strong, but comparing the Moran's I across the time we could oberseve the impact of pandemic on the spatial relationship of people's mobility.\n",
    "2. Before and at the begining of the pandemic, the average traveled distances of mobile devices has a relatively positive spatial autocorrelation at a highest of 0.1, indicating people in counties of similar mibility are closer to each other. However, the spatial autocorrelation went down to negative as the pandemic went on, reaching -0.1 in the summer 2020, showing that people in counties of similar mibility were far away. "
   ]
  },
  {
   "cell_type": "markdown",
   "metadata": {},
   "source": [
    "## Moran's I Scatterplot for whole dataset"
   ]
  },
  {
   "cell_type": "code",
   "execution_count": null,
   "metadata": {},
   "outputs": [],
   "source": [
    "from splot.esda import moran_scatterplot\n",
    "from splot.esda import plot_local_autocorrelation"
   ]
  },
  {
   "cell_type": "code",
   "execution_count": null,
   "metadata": {},
   "outputs": [],
   "source": [
    "w = Queen.from_dataframe(data)\n",
    "moran = Moran(data['weighted_avg_bucketed_distance_travelled'], w)"
   ]
  },
  {
   "cell_type": "code",
   "execution_count": null,
   "metadata": {},
   "outputs": [],
   "source": [
    "fig, ax = moran_scatterplot(moran, aspect_equal=True)\n",
    "plt.figsize=(30,30)\n",
    "plt.show()"
   ]
  },
  {
   "cell_type": "markdown",
   "metadata": {},
   "source": [
    "## Local Moran's I for Week3, 12, 40"
   ]
  },
  {
   "cell_type": "code",
   "execution_count": null,
   "metadata": {},
   "outputs": [],
   "source": [
    "# 3 subplots for Local Moran’s (LISA) for Week 3, Week 12, and Week 40\n",
    "fig, axs = plt.subplots(1, 3, figsize=(20,15),subplot_kw={'aspect': 'equal'})\n",
    "moran_scatterplot(moran_L_raw[2], p=0.05, zstandard=False, ax=axs[0]) #week 3\n",
    "moran_scatterplot(moran_L_raw[11], p=0.05, zstandard=False, ax=axs[1])# week 12\n",
    "moran_scatterplot(moran_L_raw[39], p=0.05, zstandard=False, ax=axs[2]) # week 40\n",
    "\n",
    "# set title\n",
    "axs[0].set_title(\"Week 3 Local Moran's I Scatterplot \")\n",
    "axs[1].set_title(\"Week 12 Local Moran's I Scatterplot \")\n",
    "axs[2].set_title(\"Week 40 Local Moran's I Scatterplot \")"
   ]
  },
  {
   "cell_type": "markdown",
   "metadata": {},
   "source": [
    "**Week 3:**  \n",
    "   1. 1 hotspot county (red) in High-High local spatial autocorrelation zone(upper right), i.e. high mobility county surrouned by high mobility counties\n",
    "   2. 4 coldspot county (blue) in Low-Low local spatial autocorrelation zone(lower left), i.e. low mobility county surrouned by low mobility counties\n",
    "   3. More counties Distributed in Low-High, Low-Low zone, showing many low mobility counties are roughly equally surrounded by high and low mobility counties, \n",
    "   i.e. mobility of neighbor counties are dissimilar\n",
    "   \n",
    "**Week 12:**\n",
    "   1. no hotspot, 2 coldspot. \n",
    "   2. most counties in Low-Low local spatial autocorrelation zone, i.e. mobility of neighbor counties are highly similar in that all are low.\n",
    "\n",
    "**Week 40:**\n",
    "   1. 1 hotspot, 1-2 coldspot. \n",
    "   2. most counties in Low-Low local spatial autocorrelation zone, but a hotspot reappear. i.e. most counties has similar low mobility, 1 counties reapprear high spatial autocorrelation in mobility\n",
    "\n",
    "Overtime, the mobility in California Counties tend to decrease over 2020, however, a few county revive it mobility to high level at the end of the year.  \n"
   ]
  },
  {
   "cell_type": "code",
   "execution_count": null,
   "metadata": {},
   "outputs": [],
   "source": [
    "!jupyter nbconvert --to pdf --no-input Wenxuan_Zhang_Lab_test.ipynb"
   ]
  }
 ],
 "metadata": {
  "interpreter": {
   "hash": "31f2aee4e71d21fbe5cf8b01ff0e069b9275f58929596ceb00d14d90e3e16cd6"
  },
  "kernelspec": {
   "display_name": "Python 3",
   "language": "python",
   "name": "python3"
  },
  "language_info": {
   "codemirror_mode": {
    "name": "ipython",
    "version": 3
   },
   "file_extension": ".py",
   "mimetype": "text/x-python",
   "name": "python",
   "nbconvert_exporter": "python",
   "pygments_lexer": "ipython3",
   "version": "3.7.6"
  }
 },
 "nbformat": 4,
 "nbformat_minor": 4
}
